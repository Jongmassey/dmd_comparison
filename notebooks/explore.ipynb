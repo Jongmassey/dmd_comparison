{
 "cells": [
  {
   "cell_type": "code",
   "execution_count": 15,
   "metadata": {},
   "outputs": [],
   "source": [
    "from glob import glob\n",
    "import xml.etree.ElementTree as ET\n",
    "import pandas as pd"
   ]
  },
  {
   "cell_type": "code",
   "execution_count": 2,
   "metadata": {},
   "outputs": [],
   "source": [
    "amps = glob(\"../dmd/**/f_amp2*.xml\")\n",
    "vmps = glob(\"../dmd/**/f_vmp2*.xml\")\n",
    "amps_parsed = {a:ET.parse(a).getroot() for a in amps}\n",
    "vmps_parsed = {v:ET.parse(v).getroot() for v in vmps}"
   ]
  },
  {
   "cell_type": "code",
   "execution_count": 3,
   "metadata": {},
   "outputs": [],
   "source": [
    "def parse_dmd_version(dmd_string):\n",
    "    parts = dmd_string.split(\"_\")\n",
    "    major, minor, point = parts[2].split(\".\")\n",
    "    return {\n",
    "        \"major\":int(major),\n",
    "        \"minor\":int(minor),\n",
    "        \"point\":int(point),\n",
    "        \"datestamp\":parts[3]\n",
    "    }\n",
    "\n",
    "def parse_mp_version(xmp_filename):\n",
    "    return xmp_filename.replace(\".xml\",\"\").split(\"_\")[-1]"
   ]
  },
  {
   "cell_type": "code",
   "execution_count": 4,
   "metadata": {},
   "outputs": [],
   "source": [
    "amp_versions = {a:\n",
    "    {\"v_dmd\": parse_dmd_version(a.split(\"/\")[-2]),\n",
    "    \"v_amp\": parse_mp_version(a.split(\"/\")[-1])\n",
    "    } for a in amps}\n",
    "\n",
    "vmp_versions = {v:\n",
    "    {\"v_dmd\": parse_dmd_version(v.split(\"/\")[-2]),\n",
    "    \"v_vmp\": parse_mp_version(v.split(\"/\")[-1])\n",
    "    } for v in vmps}"
   ]
  },
  {
   "cell_type": "code",
   "execution_count": 5,
   "metadata": {},
   "outputs": [],
   "source": [
    "amps_sorted = [a[0] for a in sorted(amp_versions.items(),key= lambda x: (x[1]['v_dmd']['major'],x[1]['v_dmd']['minor'],x[1]['v_dmd']['point']))]\n",
    "vmps_sorted = [a[0] for a in sorted(vmp_versions.items(),key= lambda x: (x[1]['v_dmd']['major'],x[1]['v_dmd']['minor'],x[1]['v_dmd']['point']))]"
   ]
  },
  {
   "cell_type": "code",
   "execution_count": 23,
   "metadata": {},
   "outputs": [],
   "source": [
    "amp_dfs = {a[0]: pd.DataFrame.from_dict([{e.tag :e.text for e in l} for l in a[1][0]]).set_index('APID') for a in amps_parsed.items()}"
   ]
  },
  {
   "cell_type": "code",
   "execution_count": 25,
   "metadata": {},
   "outputs": [],
   "source": [
    "vmp_dfs = {v[0]: pd.DataFrame.from_dict([{e.tag :e.text for e in l} for l in v[1][0]]).set_index('VPID') for v in vmps_parsed.items()}"
   ]
  },
  {
   "cell_type": "code",
   "execution_count": 80,
   "metadata": {},
   "outputs": [],
   "source": [
    "def sequential_changes(sorted_list,df_dict,pk):\n",
    "    out_changes = {}\n",
    "    for i in range(0,len(sorted_list)-1):\n",
    "        changes = {}\n",
    "        df1 = df_dict[sorted_list[i]]\n",
    "        df2 = df_dict[sorted_list[i+1]]\n",
    "        changes[\"new\"] = df2[~df2.index.isin(df1.index)]\n",
    "        changes[\"removed\"] = df1[~df1.index.isin(df2.index)]\n",
    "        df1=df1[df1.index.isin(df2.index)]\n",
    "        df2=df2[df2.index.isin(df1.index)]\n",
    "        ix_changed = pd.concat([df1,df2]).drop_duplicates(keep=False).index\n",
    "        changes[\"changed\"] = df1.loc[ix_changed].merge(df2.loc[ix_changed],left_index=True,right_index=True,suffixes=(\"_old\",\"_new\"))\n",
    "        out_changes[sorted_list[i+1]] = changes\n",
    "    return out_changes\n"
   ]
  },
  {
   "cell_type": "code",
   "execution_count": 81,
   "metadata": {},
   "outputs": [],
   "source": [
    "amp_changes = sequential_changes(amps_sorted,amp_dfs,\"APID\")"
   ]
  },
  {
   "cell_type": "code",
   "execution_count": 82,
   "metadata": {},
   "outputs": [],
   "source": [
    "vmp_changes = sequential_changes(vmps_sorted,vmp_dfs,\"VPID\")"
   ]
  }
 ],
 "metadata": {
  "kernelspec": {
   "display_name": "Python 3.10.6 ('.venv': venv)",
   "language": "python",
   "name": "python3"
  },
  "language_info": {
   "codemirror_mode": {
    "name": "ipython",
    "version": 3
   },
   "file_extension": ".py",
   "mimetype": "text/x-python",
   "name": "python",
   "nbconvert_exporter": "python",
   "pygments_lexer": "ipython3",
   "version": "3.10.7"
  },
  "orig_nbformat": 4,
  "vscode": {
   "interpreter": {
    "hash": "ac056cf940a96c81f6683782852260f3ad9ac90cb071d1a03948af7d8c363b3d"
   }
  }
 },
 "nbformat": 4,
 "nbformat_minor": 2
}
