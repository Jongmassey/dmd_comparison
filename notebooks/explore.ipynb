{
 "cells": [
  {
   "cell_type": "code",
   "execution_count": 1,
   "metadata": {},
   "outputs": [],
   "source": [
    "from glob import glob\n",
    "import xml.etree.ElementTree as ET"
   ]
  },
  {
   "cell_type": "code",
   "execution_count": 2,
   "metadata": {},
   "outputs": [],
   "source": [
    "amps = glob(\"../dmd/**/f_amp2*.xml\")\n",
    "vmps = glob(\"../dmd/**/f_vmp2*.xml\")\n",
    "amps_parsed = {a:ET.parse(a).getroot() for a in amps}\n",
    "vmps_parsed = {v:ET.parse(v).getroot() for v in vmps}"
   ]
  },
  {
   "cell_type": "code",
   "execution_count": 6,
   "metadata": {},
   "outputs": [],
   "source": [
    "def parse_dmd_version(dmd_string):\n",
    "    parts = dmd_string.split(\"_\")\n",
    "    major, minor, point = parts[2].split(\".\")\n",
    "    return {\n",
    "        \"major\":int(major),\n",
    "        \"minor\":int(minor),\n",
    "        \"point\":int(point),\n",
    "        \"datestamp\":parts[3]\n",
    "    }\n",
    "\n",
    "def parse_mp_version(xmp_filename):\n",
    "    return xmp_filename.replace(\".xml\",\"\").split(\"_\")[-1]"
   ]
  },
  {
   "cell_type": "code",
   "execution_count": 7,
   "metadata": {},
   "outputs": [],
   "source": [
    "amp_versions = {a:\n",
    "    {\"v_dmd\": parse_dmd_version(a.split(\"/\")[-2]),\n",
    "    \"v_amp\": parse_mp_version(a.split(\"/\")[-1])\n",
    "    } for a in amps}\n",
    "\n",
    "vmp_versions = {v:\n",
    "    {\"v_dmd\": parse_dmd_version(v.split(\"/\")[-2]),\n",
    "    \"v_vmp\": parse_mp_version(v.split(\"/\")[-1])\n",
    "    } for v in vmps}"
   ]
  },
  {
   "cell_type": "code",
   "execution_count": 19,
   "metadata": {},
   "outputs": [],
   "source": [
    "amps_sorted = [a[0] for a in sorted(amp_versions.items(),key= lambda x: (x[1]['v_dmd']['major'],x[1]['v_dmd']['minor'],x[1]['v_dmd']['point']))]\n",
    "vmps_sorted = [a[0] for a in sorted(vmp_versions.items(),key= lambda x: (x[1]['v_dmd']['major'],x[1]['v_dmd']['minor'],x[1]['v_dmd']['point']))]"
   ]
  }
 ],
 "metadata": {
  "kernelspec": {
   "display_name": "Python 3.10.6 ('.venv': venv)",
   "language": "python",
   "name": "python3"
  },
  "language_info": {
   "codemirror_mode": {
    "name": "ipython",
    "version": 3
   },
   "file_extension": ".py",
   "mimetype": "text/x-python",
   "name": "python",
   "nbconvert_exporter": "python",
   "pygments_lexer": "ipython3",
   "version": "3.10.7"
  },
  "orig_nbformat": 4,
  "vscode": {
   "interpreter": {
    "hash": "ac056cf940a96c81f6683782852260f3ad9ac90cb071d1a03948af7d8c363b3d"
   }
  }
 },
 "nbformat": 4,
 "nbformat_minor": 2
}
